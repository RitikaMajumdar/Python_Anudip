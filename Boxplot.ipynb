{
  "nbformat": 4,
  "nbformat_minor": 0,
  "metadata": {
    "colab": {
      "private_outputs": true,
      "provenance": [],
      "authorship_tag": "ABX9TyO/Y07vNte5PDf4NuwraeqB",
      "include_colab_link": true
    },
    "kernelspec": {
      "name": "python3",
      "display_name": "Python 3"
    },
    "language_info": {
      "name": "python"
    }
  },
  "cells": [
    {
      "cell_type": "markdown",
      "metadata": {
        "id": "view-in-github",
        "colab_type": "text"
      },
      "source": [
        "<a href=\"https://colab.research.google.com/github/RitikaMajumdar/Python_Anudip/blob/main/Boxplot.ipynb\" target=\"_parent\"><img src=\"https://colab.research.google.com/assets/colab-badge.svg\" alt=\"Open In Colab\"/></a>"
      ]
    },
    {
      "cell_type": "code",
      "execution_count": null,
      "metadata": {
        "id": "GXT_YCAzqCoG"
      },
      "outputs": [],
      "source": [
        "import pandas as pd\n",
        "import matplotlib.pyplot as plt\n",
        "import seaborn as sns\n",
        "\n",
        "# Load your Excel file into a Pandas DataFrame\n",
        "excel_file = '/content/Data Analysis - Caselet#2.xlsx'\n",
        "sheet_name = 'DifferentFormat'\n",
        "df = pd.read_excel(excel_file, sheet_name=sheet_name)\n",
        "\n",
        "# Create a box plot using Seaborn\n",
        "plt.figure(figsize=(30, 30))  # Adjust the figure size if needed\n",
        "bp = df.boxplot(column='TPT', by='Team Member', vert=True, patch_artist=True)\n",
        "\n",
        "plt.title('BOX PLOT OF TPT COLUMN FOR EACH STUDENT')\n",
        "plt.xlabel('Team Member')\n",
        "plt.ylabel('TPT Values')\n",
        "plt.xticks(rotation=90)\n",
        "plt.show()\n"
      ]
    }
  ]
}